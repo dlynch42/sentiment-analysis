{
 "cells": [
  {
   "cell_type": "markdown",
   "metadata": {},
   "source": [
    "# Data Extraction\n",
    "Combine the two datasets to create a larger, more robust dataset"
   ]
  },
  {
   "cell_type": "code",
   "execution_count": 1,
   "metadata": {},
   "outputs": [],
   "source": [
    "import pandas as pd\n",
    "import os.path\n",
    "from os import path"
   ]
  },
  {
   "cell_type": "markdown",
   "metadata": {},
   "source": [
    "# Merge Files\n",
    "- Create class `MergeFiles()` to see if there are any files in backtesting\n",
    "    - Data should have already been cleaned to have the columns in the correct order\n",
    "- If yes:\n",
    "    - Standardize data\n",
    "    - Merge with `data.csv`\n",
    "    - Empty directory"
   ]
  },
  {
   "cell_type": "code",
   "execution_count": 2,
   "metadata": {},
   "outputs": [],
   "source": [
    "class MergeFiles():\n",
    "    def __init__(self, df, newCSV):\n",
    "        self.df = df\n",
    "        self.newCSV = newCSV\n",
    "        self.mergeFiles(df, newCSV)\n",
    "\n",
    "    def mergeFiles(self, df, newCSV):\n",
    "        intDict = {\"neutral\": 0, \"positive\": 1, \"negative\": -1,\n",
    "                    \"Neutral\": 0, \"Positive\": 1, \"Negative\": -1}\n",
    "\n",
    "        dir = os.listdir(newCSV)\n",
    "        if len(dir) > 0:\n",
    "            for item in dir:\n",
    "                item = newCSV + '/' + item\n",
    "                nfdf = pd.read_csv(item)\n",
    "                nfdf.columns = ['Text', 'Sentiment']\n",
    "                nfdf['Sentiment'].replace(intDict, inplace=True)\n",
    "                df = pd.concat([df, nfdf])\n",
    "                os.remove(item)\n",
    "            return df.to_csv(path, index=False)"
   ]
  },
  {
   "cell_type": "code",
   "execution_count": 3,
   "metadata": {},
   "outputs": [],
   "source": [
    "path = 'stock_data.csv'\n",
    "newCSV = 'data.csv'\n",
    "df = pd.read_csv(path)"
   ]
  },
  {
   "cell_type": "code",
   "execution_count": 4,
   "metadata": {},
   "outputs": [],
   "source": [
    "merge = MergeFiles(df, newCSV)"
   ]
  },
  {
   "cell_type": "code",
   "execution_count": 5,
   "metadata": {},
   "outputs": [
    {
     "name": "stdout",
     "output_type": "stream",
     "text": [
      "The file 'stock_data.csv' does not exist.\n"
     ]
    }
   ],
   "source": [
    "if os.path.exists(path):\n",
    "    os.remove(path)\n",
    "    print(f\"The file '{path}' has been removed.\")\n",
    "else:\n",
    "    print(f\"The file '{path}' does not exist.\")"
   ]
  }
 ],
 "metadata": {
  "kernelspec": {
   "display_name": "Python 3",
   "language": "python",
   "name": "python3"
  },
  "language_info": {
   "codemirror_mode": {
    "name": "ipython",
    "version": 3
   },
   "file_extension": ".py",
   "mimetype": "text/x-python",
   "name": "python",
   "nbconvert_exporter": "python",
   "pygments_lexer": "ipython3",
   "version": "3.10.9"
  }
 },
 "nbformat": 4,
 "nbformat_minor": 2
}
